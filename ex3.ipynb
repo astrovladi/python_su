{
 "cells": [
  {
   "cell_type": "code",
   "execution_count": 46,
   "id": "593ca1fd-9da8-4380-aa64-25d80542b06d",
   "metadata": {},
   "outputs": [],
   "source": [
    "import numpy as np\n",
    "import matplotlib.pyplot as plt\n",
    "from astropy.io import fits\n",
    "from astropy.table import Table\n",
    "from astropy import units as u\n",
    "plt.ion()\n",
    "import os\n",
    "%matplotlib widget"
   ]
  },
  {
   "cell_type": "markdown",
   "id": "526e0c7a-7f8e-4068-bbe1-afb6d8e9f238",
   "metadata": {},
   "source": [
    "### **Test interactive plot**"
   ]
  },
  {
   "cell_type": "code",
   "execution_count": 47,
   "id": "3d327166-6810-4ccd-bca9-71193bb6e4d7",
   "metadata": {},
   "outputs": [
    {
     "data": {
      "text/plain": [
       "[<matplotlib.lines.Line2D at 0x75180825ffd0>]"
      ]
     },
     "execution_count": 47,
     "metadata": {},
     "output_type": "execute_result"
    }
   ],
   "source": [
    "plt.plot([1,2,3], [1,2,3])"
   ]
  },
  {
   "cell_type": "markdown",
   "id": "eec8fff6-e3e7-40ed-910f-c55a3f15b9c5",
   "metadata": {},
   "source": [
    "$x = sin(y)$"
   ]
  },
  {
   "cell_type": "markdown",
   "id": "d647379e-25a8-4cee-a713-2a7834705485",
   "metadata": {},
   "source": [
    "$E = mc^2$"
   ]
  },
  {
   "cell_type": "code",
   "execution_count": 48,
   "id": "ced66d0c-d08a-4082-8af9-aef96438de46",
   "metadata": {},
   "outputs": [],
   "source": [
    "s = [1,4,5,8]"
   ]
  },
  {
   "cell_type": "code",
   "execution_count": 49,
   "id": "71643ea2-f2c0-4209-baf6-ed3955960788",
   "metadata": {},
   "outputs": [
    {
     "name": "stdout",
     "output_type": "stream",
     "text": [
      "9\n"
     ]
    }
   ],
   "source": [
    "r = 4 + s[2]\n",
    "print(r)"
   ]
  },
  {
   "cell_type": "code",
   "execution_count": 50,
   "id": "d2b4b84b-577c-46ea-8842-606a403369cb",
   "metadata": {},
   "outputs": [
    {
     "name": "stdout",
     "output_type": "stream",
     "text": [
      "Vladi Irincheva\n"
     ]
    }
   ],
   "source": [
    "e = \"Vladi \" + \"Irincheva\"\n",
    "print(e)"
   ]
  },
  {
   "cell_type": "code",
   "execution_count": 51,
   "id": "eb5022ca-a759-4b03-8af7-f96494dea5d6",
   "metadata": {},
   "outputs": [],
   "source": [
    "e += \"!\""
   ]
  },
  {
   "cell_type": "code",
   "execution_count": 52,
   "id": "6929dafb-99ba-407d-9155-514204cb6315",
   "metadata": {},
   "outputs": [
    {
     "name": "stdout",
     "output_type": "stream",
     "text": [
      "Vladi Irincheva!\n"
     ]
    }
   ],
   "source": [
    "print(e)"
   ]
  },
  {
   "cell_type": "code",
   "execution_count": 53,
   "id": "00f71f5b-7e09-4769-a515-0b8c2cde3805",
   "metadata": {},
   "outputs": [
    {
     "name": "stdout",
     "output_type": "stream",
     "text": [
      "VLADI IRINCHEVA!\n"
     ]
    }
   ],
   "source": [
    "f = e.upper()\n",
    "print(f)"
   ]
  },
  {
   "cell_type": "code",
   "execution_count": 54,
   "id": "662c134f-444c-4148-b968-75d24a6d3439",
   "metadata": {},
   "outputs": [
    {
     "name": "stdout",
     "output_type": "stream",
     "text": [
      "VLADI\n",
      "IRINCHEVA\n"
     ]
    }
   ],
   "source": [
    "n1 = f.split(\" \")[0]\n",
    "n2 = f.split(\" \")[1].split(\"!\")[0]\n",
    "print(n1)\n",
    "print(n2)"
   ]
  },
  {
   "cell_type": "code",
   "execution_count": 55,
   "id": "07b1de8a-3b7d-44fd-b481-5452c010ee05",
   "metadata": {},
   "outputs": [],
   "source": [
    "l1 = [4, 5.5, \"home\"]"
   ]
  },
  {
   "cell_type": "code",
   "execution_count": 56,
   "id": "4c008d04-1be1-4e2d-a7f3-057dc1e3bfe5",
   "metadata": {},
   "outputs": [
    {
     "data": {
      "text/plain": [
       "4"
      ]
     },
     "execution_count": 56,
     "metadata": {},
     "output_type": "execute_result"
    }
   ],
   "source": [
    "l1[0]"
   ]
  },
  {
   "cell_type": "code",
   "execution_count": 57,
   "id": "e199bb40-f6ed-4f9c-838d-aae9fc686fe7",
   "metadata": {},
   "outputs": [
    {
     "data": {
      "text/plain": [
       "'m'"
      ]
     },
     "execution_count": 57,
     "metadata": {},
     "output_type": "execute_result"
    }
   ],
   "source": [
    "l1[2][2]"
   ]
  },
  {
   "cell_type": "code",
   "execution_count": 58,
   "id": "c239cdcd-0dd8-4521-b519-158feb110f44",
   "metadata": {},
   "outputs": [
    {
     "name": "stdout",
     "output_type": "stream",
     "text": [
      "[4, 16, 'home']\n"
     ]
    }
   ],
   "source": [
    "l1[1] = 16\n",
    "print(l1)"
   ]
  },
  {
   "cell_type": "code",
   "execution_count": 59,
   "id": "ae0b5a82-08d3-4648-b280-60f07b98a1f5",
   "metadata": {},
   "outputs": [
    {
     "name": "stdout",
     "output_type": "stream",
     "text": [
      "[4, 16, 'home', 'school']\n"
     ]
    }
   ],
   "source": [
    "l1.append(\"school\")\n",
    "print(l1)"
   ]
  },
  {
   "cell_type": "code",
   "execution_count": 60,
   "id": "840759c7-1bc3-4fe8-93aa-db344403668e",
   "metadata": {},
   "outputs": [
    {
     "name": "stdout",
     "output_type": "stream",
     "text": [
      "[4, 7, 16, 'home', 'school']\n",
      "[4, 16, 'home', 'school']\n"
     ]
    }
   ],
   "source": [
    "l1.insert(1, 7)\n",
    "print(l1)\n",
    "l1.pop(1)\n",
    "print(l1)"
   ]
  },
  {
   "cell_type": "code",
   "execution_count": 61,
   "id": "0ff8e8f7-e414-4444-b371-3ace3ff3e314",
   "metadata": {},
   "outputs": [
    {
     "name": "stdout",
     "output_type": "stream",
     "text": [
      "[4, 16, 'home']\n"
     ]
    }
   ],
   "source": [
    "l1.remove(\"school\")\n",
    "print(l1)"
   ]
  },
  {
   "cell_type": "code",
   "execution_count": 62,
   "id": "dca146c5-5439-49f2-906f-552a9fe7c1dc",
   "metadata": {},
   "outputs": [
    {
     "data": {
      "text/plain": [
       "'home'"
      ]
     },
     "execution_count": 62,
     "metadata": {},
     "output_type": "execute_result"
    }
   ],
   "source": [
    "l1[-1]"
   ]
  },
  {
   "cell_type": "code",
   "execution_count": 63,
   "id": "25198b24-33b1-42db-84ee-fc1572ae635b",
   "metadata": {},
   "outputs": [
    {
     "data": {
      "text/plain": [
       "16"
      ]
     },
     "execution_count": 63,
     "metadata": {},
     "output_type": "execute_result"
    }
   ],
   "source": [
    "l1[-2]"
   ]
  },
  {
   "cell_type": "code",
   "execution_count": 71,
   "id": "cb83d7aa-a5f1-4782-89ef-17af5c415f0e",
   "metadata": {},
   "outputs": [
    {
     "name": "stdout",
     "output_type": "stream",
     "text": [
      "<class 'int'>\n",
      "<class 'float'>\n",
      "<class 'int'>\n",
      "10\n"
     ]
    }
   ],
   "source": [
    "g = 3.4\n",
    "k = int(g)\n",
    "print(type(k))\n",
    "print(type(g))\n",
    "print(type(l1[1]))\n",
    "w = int(round(5.9))+int(4.3)\n",
    "print(w)"
   ]
  },
  {
   "cell_type": "code",
   "execution_count": 76,
   "id": "c101c6aa-bb9d-49d3-8f58-bcacd37da86a",
   "metadata": {},
   "outputs": [
    {
     "name": "stdout",
     "output_type": "stream",
     "text": [
      "The result is 10\n",
      "The result is 10\n"
     ]
    }
   ],
   "source": [
    "print(\"The result is\", w)\n",
    "print(\"The result is \" + str(w))"
   ]
  },
  {
   "cell_type": "code",
   "execution_count": null,
   "id": "cf3acff3-f8e2-4a8e-b5c0-231701b0d91c",
   "metadata": {},
   "outputs": [],
   "source": []
  }
 ],
 "metadata": {
  "kernelspec": {
   "display_name": "Python 3 (ipykernel)",
   "language": "python",
   "name": "python3"
  },
  "language_info": {
   "codemirror_mode": {
    "name": "ipython",
    "version": 3
   },
   "file_extension": ".py",
   "mimetype": "text/x-python",
   "name": "python",
   "nbconvert_exporter": "python",
   "pygments_lexer": "ipython3",
   "version": "3.10.12"
  }
 },
 "nbformat": 4,
 "nbformat_minor": 5
}
